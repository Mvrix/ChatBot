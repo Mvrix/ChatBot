{
 "cells": [
  {
   "cell_type": "code",
   "execution_count": null,
   "metadata": {},
   "outputs": [],
   "source": [
    "from chatterbot import ChatBot\n",
    "\n",
    "bot = ChatBot(\n",
    "    'Terminal',\n",
    "    storage_adapter='chatterbot.storage.SQLStorageAdapter',\n",
    "    logic_adapters=[\n",
    "        'chatterbot.logic.MathematicalEvaluation',\n",
    "        'chatterbot.logic.TimeLogicAdapter',\n",
    "        'chatterbot.logic.BestMatch'\n",
    "    ],\n",
    "    database_uri='sqlite:///database.db'\n",
    ")\n",
    "\n",
    "print('Type something to begin...')\n",
    "\n",
    "# The following loop will execute each time the user enters input\n",
    "while True:\n",
    "    try:\n",
    "        user_input = input()\n",
    "\n",
    "        bot_response = bot.get_response(user_input)\n",
    "\n",
    "        print(bot_response)\n",
    "\n",
    "    # Press ctrl-c or ctrl-d on the keyboard to exit\n",
    "    except (KeyboardInterrupt, EOFError, SystemExit):\n",
    "        break"
   ]
  },
  {
   "cell_type": "code",
   "execution_count": null,
   "metadata": {},
   "outputs": [],
   "source": [
    "from chatterbot import ChatBot\n",
    "\n",
    "bot.storage.drop(),\n",
    "\n",
    "#comandos para importar a logica do chatterbot e criar banco de memoria\n",
    "bot = ChatBot (\n",
    "    'MariuBot',\n",
    "    storage_adapter='chatterbot.storage.SQLStorageAdapter',\n",
    "    logic_adapters=[\n",
    "        'chatterbot.logic.MathematicalEvaluation',\n",
    "        'chatterbot.logic.TimeLogicAdapter',\n",
    "        'chatterbot.logic.BestMatch'\n",
    "    ],\n",
    "    database_uri='sqlite:///database.db'\n",
    ")\n",
    "\n",
    "print('Vamos fazer umas contas?')\n",
    "\n",
    "while True:\n",
    "    talk = input(\"Mande uma mensagem para o chatbot:\")\n",
    "    if talk == \"parar\":\n",
    "        break\n",
    "    resposta = bot.get_response(talk)\n",
    "    print(resposta)"
   ]
  }
 ],
 "metadata": {
  "kernelspec": {
   "display_name": "Python 3 (ipykernel)",
   "language": "python",
   "name": "python3"
  },
  "language_info": {
   "codemirror_mode": {
    "name": "ipython",
    "version": 3
   },
   "file_extension": ".py",
   "mimetype": "text/x-python",
   "name": "python",
   "nbconvert_exporter": "python",
   "pygments_lexer": "ipython3",
   "version": "3.10.7"
  },
  "vscode": {
   "interpreter": {
    "hash": "8d7f28b2f3b65cf81ca12863b3a795804210a734b286abca28ed55c1e188e6d9"
   }
  }
 },
 "nbformat": 4,
 "nbformat_minor": 2
}
