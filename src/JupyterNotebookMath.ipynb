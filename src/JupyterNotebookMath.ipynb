{
 "cells": [
  {
   "cell_type": "code",
   "execution_count": null,
   "metadata": {},
   "outputs": [],
   "source": [
    "from urllib import response\n",
    "from chatterbot import ChatBot\n",
    "from chatterbot.trainers import ListTrainer\n",
    "\n",
    "from spacy.cli import download\n",
    "\n",
    "download(\"en_core_web_sm\")\n",
    "\n",
    "class ENGSM:\n",
    "    ISO_639_1 = 'en_core_web_sm'"
   ]
  },
  {
   "cell_type": "code",
   "execution_count": 56,
   "metadata": {},
   "outputs": [
    {
     "name": "stdout",
     "output_type": "stream",
     "text": [
      "List Trainer: [############        ] 60%"
     ]
    },
    {
     "name": "stderr",
     "output_type": "stream",
     "text": [
      "[nltk_data] Downloading package averaged_perceptron_tagger to\n",
      "[nltk_data]     C:\\Users\\oi_ma\\AppData\\Roaming\\nltk_data...\n",
      "[nltk_data]   Package averaged_perceptron_tagger is already up-to-\n",
      "[nltk_data]       date!\n",
      "[nltk_data] Downloading package punkt to\n",
      "[nltk_data]     C:\\Users\\oi_ma\\AppData\\Roaming\\nltk_data...\n",
      "[nltk_data]   Package punkt is already up-to-date!\n",
      "[nltk_data] Downloading package stopwords to\n",
      "[nltk_data]     C:\\Users\\oi_ma\\AppData\\Roaming\\nltk_data...\n",
      "[nltk_data]   Package stopwords is already up-to-date!\n"
     ]
    },
    {
     "name": "stdout",
     "output_type": "stream",
     "text": [
      "List Trainer: [####################] 100%\n",
      "List Trainer: [####################] 100%\n"
     ]
    }
   ],
   "source": [
    "chatbot = ChatBot(\"BotMariu\",\n",
    "   storage_adapter='chatterbot.storage.SQLStorageAdapter',\n",
    "   logic_adapters=[\n",
    "      'chatterbot.logic.MathematicalEvaluation',\n",
    "      'chatterbot.logic.TimeLogicAdapter',\n",
    "      'chatterbot.logic.BestMatch'\n",
    "   ],\n",
    "   database_uri='sqlite:///database.db')\n",
    "\n",
    "trainer = ListTrainer(chatbot)\n",
    "\n",
    "trainer.train([\n",
    "   \"Coe\",\n",
    "   \"Eai, tranquilo? \",\n",
    "   \"Suave po\",\n",
    "   \"Qual a boa?\",\n",
    "   \"Nada não, só Python mesmo\",\n",
    "   \"E a namorada?\",\n",
    "   \"Foi ta na casa da mae\",\n",
    "   \"Complicado...\",\n",
    "   \"Você calcula?\",\n",
    "   \"Claro!\"\n",
    "   \n",
    "])\n",
    "trainer.train([\n",
    "   \"Você sabe somar?\",\n",
    "   \"Eu sei somar\",\n",
    "   \"Você sabe divir?\",\n",
    "   \"Eu sei dividir\",\n",
    "   \"Você sabe subtrair?\",\n",
    "   \"Eu sei subtrair\",\n",
    "   \"Voce sabe que horas são?\",\n",
    "   \"Me pergunte que horas são\"\n",
    "])\n",
    "\n",
    "\n",
    "\n",
    "trainer = ListTrainer(chatbot)\n",
    "#trainer.train(trainer)"
   ]
  },
  {
   "cell_type": "code",
   "execution_count": 53,
   "metadata": {},
   "outputs": [
    {
     "name": "stdout",
     "output_type": "stream",
     "text": [
      "Vamos conversar?\n",
      "Me pergunte que horas são\n",
      "The current time is 08:56 PM\n"
     ]
    }
   ],
   "source": [
    "print(\"Vamos conversar?\")\n",
    "while True:\n",
    "    talk = input(\"Mande uma mensagem para o chatbot:\")\n",
    "    if talk == \"parar\":\n",
    "        break\n",
    "    resposta = chatbot.get_response(talk)\n",
    "    print(resposta)"
   ]
  },
  {
   "cell_type": "code",
   "execution_count": null,
   "metadata": {},
   "outputs": [],
   "source": [
    "ChatBot.storage.drop()"
   ]
  }
 ],
 "metadata": {
  "kernelspec": {
   "display_name": "Python 3 (ipykernel)",
   "language": "python",
   "name": "python3"
  },
  "language_info": {
   "codemirror_mode": {
    "name": "ipython",
    "version": 3
   },
   "file_extension": ".py",
   "mimetype": "text/x-python",
   "name": "python",
   "nbconvert_exporter": "python",
   "pygments_lexer": "ipython3",
   "version": "3.10.7"
  },
  "vscode": {
   "interpreter": {
    "hash": "8d7f28b2f3b65cf81ca12863b3a795804210a734b286abca28ed55c1e188e6d9"
   }
  }
 },
 "nbformat": 4,
 "nbformat_minor": 2
}
